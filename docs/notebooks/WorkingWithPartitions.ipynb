{
 "cells": [
  {
   "cell_type": "markdown",
   "metadata": {},
   "source": [
    "# Working with Partitions\n",
    "\n",
    "This document walks you through the most common ways that you might work with a GerryChain `Partition` object.\n"
   ]
  },
  {
   "cell_type": "code",
   "execution_count": 6,
   "metadata": {},
   "outputs": [],
   "source": [
    "import geopandas\n",
    "from gerrychain import Partition, Graph\n",
    "from gerrychain.updaters import cut_edges"
   ]
  },
  {
   "cell_type": "markdown",
   "metadata": {},
   "source": [
    "We'll use our [Pennsylvania VTD shapefile](https://github.com/mggg-states/PA-shapefiles) to create the graph we'll use in these examples."
   ]
  },
  {
   "cell_type": "code",
   "execution_count": 2,
   "metadata": {},
   "outputs": [],
   "source": [
    "df = geopandas.read_file(\"https://github.com/mggg-states/PA-shapefiles/raw/master/PA_VTDs.zip\")\n",
    "df.set_index(\"GEOID10\", inplace=True)"
   ]
  },
  {
   "cell_type": "code",
   "execution_count": 3,
   "metadata": {},
   "outputs": [],
   "source": [
    "graph = Graph.from_geodataframe(df)\n",
    "graph.add_data(df)"
   ]
  },
  {
   "cell_type": "markdown",
   "metadata": {},
   "source": [
    "## Creating a partition\n",
    "\n",
    "Here is how you can create a Partition:"
   ]
  },
  {
   "cell_type": "code",
   "execution_count": 7,
   "metadata": {},
   "outputs": [],
   "source": [
    "partition = Partition(graph, \"2011_PLA_1\", {\"cut_edges\": cut_edges})"
   ]
  },
  {
   "cell_type": "markdown",
   "metadata": {},
   "source": [
    "The `Partition` class takes three arguments to create a Partition:\n",
    "\n",
    "- A **graph**.\n",
    "- An **assignment of nodes to districts**. This can be the string name of a node attribute (shapefile column) that holds each node's district assignment, or a dictionary mapping each node ID to its assigned district ID. \n",
    "- A dictionary of **updaters**.\n",
    "\n",
    "This creates a partition of the `graph` object we created above from the Pennsylvania shapefile. The partition is defined by the `\"2011_PLA_1\"` column from our shapefile's attribute table."
   ]
  },
  {
   "cell_type": "markdown",
   "metadata": {},
   "source": [
    "## `partition.graph`: the underlying graph\n",
    "\n",
    "You can access the partition's underlying Graph as `partition.graph`. This contains no information about the partition---it will be the same graph object that you passed in to `Partition()` when you created the partition instance.\n",
    "\n",
    "`partition.graph` is a [`gerrychain.Graph`](https://gerrychain.readthedocs.io/en/latest/api.html#gerrychain.Graph) object. It is based on the NetworkX Graph object, so any functions (e.g. [`connected_components`](https://networkx.github.io/documentation/stable/reference/algorithms/generated/networkx.algorithms.components.connected_components.html#networkx.algorithms.components.connected_components)) you can find in the [NetworkX documentation](https://networkx.github.io/) will be compatible."
   ]
  },
  {
   "cell_type": "code",
   "execution_count": 11,
   "metadata": {},
   "outputs": [
    {
     "data": {
      "text/plain": [
       "<Graph [8921 nodes, 25228 edges]>"
      ]
     },
     "execution_count": 11,
     "metadata": {},
     "output_type": "execute_result"
    }
   ],
   "source": [
    "partition.graph"
   ]
  },
  {
   "cell_type": "markdown",
   "metadata": {},
   "source": [
    "Now we have a graph of Pennsylvania's VTDs, with all of the data from our shapefile's attribute table attached to the graph as *node attributes*. We can see the data that a node has like this:"
   ]
  },
  {
   "cell_type": "code",
   "execution_count": 12,
   "metadata": {},
   "outputs": [
    {
     "data": {
      "text/plain": [
       "{'boundary_node': False,\n",
       " 'area': 0.0063017857514999324,\n",
       " 'STATEFP10': '42',\n",
       " 'COUNTYFP10': '039',\n",
       " 'VTDST10': '60',\n",
       " 'VTDI10': 'A',\n",
       " 'NAME10': 'CAMBRIDGE SPRINGS Voting District',\n",
       " 'NAMELSAD10': 'CAMBRIDGE SPRINGS Voting District',\n",
       " 'LSAD10': '00',\n",
       " 'MTFCC10': 'G5240',\n",
       " 'FUNCSTAT10': 'N',\n",
       " 'ALAND10': 2258229,\n",
       " 'AWATER10': 0,\n",
       " 'INTPTLAT10': '+41.8018353',\n",
       " 'INTPTLON10': '-080.0596566',\n",
       " 'ATG12D': 0.0,\n",
       " 'ATG12R': 0.0,\n",
       " 'GOV10D': 0.0,\n",
       " 'GOV10R': 0.0,\n",
       " 'PRES12D': 0.0,\n",
       " 'PRES12O': 0.0,\n",
       " 'PRES12R': 0.0,\n",
       " 'SEN10D': 0.0,\n",
       " 'SEN10R': 0.0,\n",
       " 'T16ATGD': 0.0,\n",
       " 'T16ATGR': 0.0,\n",
       " 'T16PRESD': 0.0,\n",
       " 'T16PRESOTH': 0.0,\n",
       " 'T16PRESR': 0.0,\n",
       " 'T16SEND': 0.0,\n",
       " 'T16SENR': 0.0,\n",
       " 'USS12D': 0.0,\n",
       " 'USS12R': 0.0,\n",
       " 'GOV': 3,\n",
       " 'TS': 5,\n",
       " 'HISP_POP': 0,\n",
       " 'TOT_POP': 0,\n",
       " 'WHITE_POP': 0,\n",
       " 'BLACK_POP': 0,\n",
       " 'NATIVE_POP': 0,\n",
       " 'ASIAN_POP': 0,\n",
       " 'F2014GOVD': 0,\n",
       " 'F2014GOVR': 0,\n",
       " '2011_PLA_1': 3,\n",
       " 'REMEDIAL_P': 14,\n",
       " '538CPCT__1': '03',\n",
       " '538DEM_PL': '03',\n",
       " '538GOP_PL': '03',\n",
       " '8THGRADE_1': '1',\n",
       " 'geometry': <shapely.geometry.polygon.Polygon at 0x1767ceac9e8>}"
      ]
     },
     "execution_count": 12,
     "metadata": {},
     "output_type": "execute_result"
    }
   ],
   "source": [
    "partition.graph.nodes['42039060']"
   ]
  },
  {
   "cell_type": "markdown",
   "metadata": {},
   "source": [
    "The nodes of the graph are identified by IDs. Here the IDs are the VTDs GEOIDs from the `\"GEOID10\"` column from our shapefile."
   ]
  },
  {
   "cell_type": "markdown",
   "metadata": {},
   "source": [
    "## `partition.assignment`: assign nodes to parts\n",
    "\n",
    "`partition.assignment` gives you a mapping from node IDs to part IDs (\"part\" is our generic word for \"district\"). It is a custom data structure but you can use it just like a dictionary."
   ]
  },
  {
   "cell_type": "code",
   "execution_count": 28,
   "metadata": {},
   "outputs": [
    {
     "name": "stdout",
     "output_type": "stream",
     "text": [
      "3\n",
      "3\n",
      "3\n",
      "3\n",
      "3\n",
      "3\n",
      "3\n",
      "10\n",
      "10\n",
      "10\n"
     ]
    }
   ],
   "source": [
    "first_ten_nodes = list(partition.graph.nodes)[:10]\n",
    "\n",
    "for node in first_ten_nodes:\n",
    "    print(partition.assignment[node])"
   ]
  },
  {
   "cell_type": "markdown",
   "metadata": {},
   "source": [
    "## `partition.parts`: the nodes in each part\n",
    "\n",
    "`partition.parts` gives you a mapping from each part ID to the set of nodes that belong to that part. This is the \"opposite\" mapping of `assignment`.\n",
    "\n",
    "As an example, let's print out the number of nodes in each part:"
   ]
  },
  {
   "cell_type": "code",
   "execution_count": 35,
   "metadata": {},
   "outputs": [
    {
     "name": "stdout",
     "output_type": "stream",
     "text": [
      "Part 3 has 469 nodes\n",
      "Part 10 has 462 nodes\n",
      "Part 9 has 515 nodes\n",
      "Part 5 has 513 nodes\n",
      "Part 15 has 317 nodes\n",
      "Part 6 has 310 nodes\n",
      "Part 11 has 440 nodes\n",
      "Part 8 has 337 nodes\n",
      "Part 4 has 271 nodes\n",
      "Part 18 has 591 nodes\n",
      "Part 12 has 597 nodes\n",
      "Part 17 has 412 nodes\n",
      "Part 7 has 404 nodes\n",
      "Part 16 has 322 nodes\n",
      "Part 14 has 867 nodes\n",
      "Part 13 has 548 nodes\n",
      "Part 2 has 828 nodes\n",
      "Part 1 has 718 nodes\n"
     ]
    }
   ],
   "source": [
    "for part in partition.parts:\n",
    "    number_of_nodes = len(partition.parts[part])\n",
    "    print(f\"Part {part} has {number_of_nodes} nodes\")"
   ]
  },
  {
   "cell_type": "markdown",
   "metadata": {},
   "source": [
    "Notice that `partition.parts` might not loop through the parts in numerical order---but it will always loop through the parts in the same order. (You can run the cell above multiple times to verify that the order doesn't change.)"
   ]
  },
  {
   "cell_type": "markdown",
   "metadata": {},
   "source": [
    "## `partition.subgraphs`: the subgraphs of each part\n",
    "\n",
    "For each part of our partition, we can look at the *subgraph* that it defines. That is, we can look at the graph made up of all the nodes in a certain part and all the edges between those nodes.\n",
    "\n",
    "`partition.subgraphs` gives us a mapping (like a dictionary) from part IDs to their subgraphs. These subgraphs are NetworkX Subgraph objects, and work exactly like our main graph object---nodes, edges, and node attributes all work the same way."
   ]
  },
  {
   "cell_type": "code",
   "execution_count": 36,
   "metadata": {},
   "outputs": [
    {
     "name": "stdout",
     "output_type": "stream",
     "text": [
      "Part 3 has 1195 edges\n",
      "Part 10 has 1183 edges\n",
      "Part 9 has 1314 edges\n",
      "Part 5 has 1349 edges\n",
      "Part 15 has 824 edges\n",
      "Part 6 has 745 edges\n",
      "Part 11 has 1134 edges\n",
      "Part 8 has 881 edges\n",
      "Part 4 has 693 edges\n",
      "Part 18 has 1575 edges\n",
      "Part 12 has 1559 edges\n",
      "Part 17 has 1015 edges\n",
      "Part 7 has 930 edges\n",
      "Part 16 has 825 edges\n",
      "Part 14 has 2344 edges\n",
      "Part 13 has 1362 edges\n",
      "Part 2 has 2159 edges\n",
      "Part 1 has 1780 edges\n"
     ]
    }
   ],
   "source": [
    "for part, subgraph in partition.subgraphs.items():\n",
    "    number_of_edges = len(subgraph.edges)\n",
    "    print(f\"Part {part} has {number_of_edges} edges\")"
   ]
  },
  {
   "cell_type": "markdown",
   "metadata": {},
   "source": [
    "Let's use NetworkX's [diameter](https://networkx.github.io/documentation/stable/reference/algorithms/generated/networkx.algorithms.distance_measures.diameter.html) function to compute the diameter of each part subgraph. (The *diameter* of a graph is the length of the longest shortest path between any two nodes in the graph. You don't have to know that!)"
   ]
  },
  {
   "cell_type": "code",
   "execution_count": 37,
   "metadata": {},
   "outputs": [
    {
     "name": "stdout",
     "output_type": "stream",
     "text": [
      "Part 3 has diameter 40\n",
      "Part 10 has diameter 40\n",
      "Part 9 has diameter 40\n",
      "Part 5 has diameter 29\n",
      "Part 15 has diameter 28\n",
      "Part 6 has diameter 32\n",
      "Part 11 has diameter 31\n",
      "Part 8 has diameter 24\n",
      "Part 4 has diameter 19\n",
      "Part 18 has diameter 28\n",
      "Part 12 has diameter 35\n",
      "Part 17 has diameter 35\n",
      "Part 7 has diameter 38\n",
      "Part 16 has diameter 38\n",
      "Part 14 has diameter 38\n",
      "Part 13 has diameter 30\n",
      "Part 2 has diameter 28\n",
      "Part 1 has diameter 50\n"
     ]
    }
   ],
   "source": [
    "import networkx\n",
    "\n",
    "for part, subgraph in partition.subgraphs.items():\n",
    "    diameter = networkx.diameter(subgraph)\n",
    "    print(f\"Part {part} has diameter {diameter}\")"
   ]
  },
  {
   "cell_type": "markdown",
   "metadata": {},
   "source": [
    "## Outputs of updaters\n",
    "\n",
    "The other main way we can extract information from `partition` is through the updaters that we configured when we created it. We gave `partition` just one updater, `cut_edges`. This is the set of edges that go between nodes that are in *different* parts of the partition."
   ]
  },
  {
   "cell_type": "code",
   "execution_count": 38,
   "metadata": {},
   "outputs": [
    {
     "data": {
      "text/plain": [
       "2361"
      ]
     },
     "execution_count": 38,
     "metadata": {},
     "output_type": "execute_result"
    }
   ],
   "source": [
    "len(partition[\"cut_edges\"])\n"
   ]
  },
  {
   "cell_type": "code",
   "execution_count": 39,
   "metadata": {},
   "outputs": [
    {
     "data": {
      "text/plain": [
       "2361"
      ]
     },
     "execution_count": 39,
     "metadata": {},
     "output_type": "execute_result"
    }
   ],
   "source": [
    "len(partition.cut_edges)"
   ]
  },
  {
   "cell_type": "code",
   "execution_count": 41,
   "metadata": {},
   "outputs": [
    {
     "name": "stdout",
     "output_type": "stream",
     "text": [
      "Proportion of edges that are cut:\n",
      "0.09358649120025368\n"
     ]
    }
   ],
   "source": [
    "proportion_of_cut_edges = len(partition.cut_edges) / len(partition.graph.edges)\n",
    "\n",
    "print(\"Proportion of edges that are cut:\")\n",
    "print(proportion_of_cut_edges)"
   ]
  }
 ],
 "metadata": {
  "kernelspec": {
   "display_name": "Python 3",
   "language": "python",
   "name": "python3"
  },
  "language_info": {
   "codemirror_mode": {
    "name": "ipython",
    "version": 3
   },
   "file_extension": ".py",
   "mimetype": "text/x-python",
   "name": "python",
   "nbconvert_exporter": "python",
   "pygments_lexer": "ipython3",
   "version": "3.7.3"
  }
 },
 "nbformat": 4,
 "nbformat_minor": 4
}
